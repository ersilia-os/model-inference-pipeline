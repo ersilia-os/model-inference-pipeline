{
 "cells": [
  {
   "cell_type": "code",
   "execution_count": 7,
   "metadata": {},
   "outputs": [],
   "source": [
    "import awswrangler as wr\n",
    "import pandas as pd\n",
    "import os"
   ]
  },
  {
   "cell_type": "code",
   "execution_count": null,
   "metadata": {},
   "outputs": [],
   "source": [
    "def split_csv(input_path: str, numerator: int, denominator: int) -> str:\n",
    "    df = pd.read_csv(input_path)\n",
    "\n",
    "    total_length = len(df)\n",
    "    print(total_length)\n",
    "\n",
    "    chunk_size = total_length // denominator\n",
    "    print(chunk_size)\n",
    "\n",
    "\n",
    "    start_row = (numerator-1) * chunk_size\n",
    "    end_row = start_row + chunk_size\n",
    "\n",
    "    print(start_row, end_row)\n",
    "\n",
    "\n",
    "    df = df.iloc[start_row:end_row]\n",
    "    df.to_csv(\"test.csv\", index=False)\n",
    "\n",
    "    return \"test.csv\""
   ]
  },
  {
   "cell_type": "code",
   "execution_count": null,
   "metadata": {},
   "outputs": [],
   "source": [
    "split_csv(\"../reference_library_10.csv\", 2, 2)"
   ]
  },
  {
   "cell_type": "code",
   "execution_count": 2,
   "metadata": {},
   "outputs": [],
   "source": [
    "df = pd.read_csv(\"../output.csv\")"
   ]
  },
  {
   "cell_type": "code",
   "execution_count": 3,
   "metadata": {},
   "outputs": [
    {
     "data": {
      "text/html": [
       "<div>\n",
       "<style scoped>\n",
       "    .dataframe tbody tr th:only-of-type {\n",
       "        vertical-align: middle;\n",
       "    }\n",
       "\n",
       "    .dataframe tbody tr th {\n",
       "        vertical-align: top;\n",
       "    }\n",
       "\n",
       "    .dataframe thead th {\n",
       "        text-align: right;\n",
       "    }\n",
       "</style>\n",
       "<table border=\"1\" class=\"dataframe\">\n",
       "  <thead>\n",
       "    <tr style=\"text-align: right;\">\n",
       "      <th></th>\n",
       "      <th>key</th>\n",
       "      <th>input</th>\n",
       "      <th>hdac1_inh_pIC50_7</th>\n",
       "      <th>hdac1_inh_pIC50_8</th>\n",
       "    </tr>\n",
       "  </thead>\n",
       "  <tbody>\n",
       "    <tr>\n",
       "      <th>0</th>\n",
       "      <td>PCQFQFRJSWBMEL-UHFFFAOYSA-N</td>\n",
       "      <td>COC(=O)C1=CC=CC2=C1C(=O)C1=CC([N+](=O)[O-])=CC...</td>\n",
       "      <td>0.015329</td>\n",
       "      <td>0.001902</td>\n",
       "    </tr>\n",
       "    <tr>\n",
       "      <th>1</th>\n",
       "      <td>MRSBJIAZTHGJAP-UHFFFAOYSA-N</td>\n",
       "      <td>CN(C)CCC1=CN(C)C2=CC=C(O)C=C12</td>\n",
       "      <td>0.002920</td>\n",
       "      <td>0.006755</td>\n",
       "    </tr>\n",
       "    <tr>\n",
       "      <th>2</th>\n",
       "      <td>CJUOVTMTGQENNQ-UHFFFAOYSA-N</td>\n",
       "      <td>CC1=C(S(=O)(=O)N2CCCCC2)C2=C(S1)N=CN(CC(=O)N1C...</td>\n",
       "      <td>0.037461</td>\n",
       "      <td>0.008910</td>\n",
       "    </tr>\n",
       "    <tr>\n",
       "      <th>3</th>\n",
       "      <td>OFCIHDDKDVHWGO-LICLKQGHSA-N</td>\n",
       "      <td>CN(C)CCOC1=CC=C(C(=O)/C=C/C2=CC=C(OC3=CC=CC=C3...</td>\n",
       "      <td>0.003356</td>\n",
       "      <td>0.000946</td>\n",
       "    </tr>\n",
       "    <tr>\n",
       "      <th>4</th>\n",
       "      <td>SZROQWMXFIMBGE-UHFFFAOYSA-N</td>\n",
       "      <td>O=C(CCC1=COC2=CC=CC(OCC3CCCCC3)=C2C1=O)C1=CC=C...</td>\n",
       "      <td>0.083075</td>\n",
       "      <td>0.079745</td>\n",
       "    </tr>\n",
       "  </tbody>\n",
       "</table>\n",
       "</div>"
      ],
      "text/plain": [
       "                           key  \\\n",
       "0  PCQFQFRJSWBMEL-UHFFFAOYSA-N   \n",
       "1  MRSBJIAZTHGJAP-UHFFFAOYSA-N   \n",
       "2  CJUOVTMTGQENNQ-UHFFFAOYSA-N   \n",
       "3  OFCIHDDKDVHWGO-LICLKQGHSA-N   \n",
       "4  SZROQWMXFIMBGE-UHFFFAOYSA-N   \n",
       "\n",
       "                                               input  hdac1_inh_pIC50_7  \\\n",
       "0  COC(=O)C1=CC=CC2=C1C(=O)C1=CC([N+](=O)[O-])=CC...           0.015329   \n",
       "1                     CN(C)CCC1=CN(C)C2=CC=C(O)C=C12           0.002920   \n",
       "2  CC1=C(S(=O)(=O)N2CCCCC2)C2=C(S1)N=CN(CC(=O)N1C...           0.037461   \n",
       "3  CN(C)CCOC1=CC=C(C(=O)/C=C/C2=CC=C(OC3=CC=CC=C3...           0.003356   \n",
       "4  O=C(CCC1=COC2=CC=CC(OCC3CCCCC3)=C2C1=O)C1=CC=C...           0.083075   \n",
       "\n",
       "   hdac1_inh_pIC50_8  \n",
       "0           0.001902  \n",
       "1           0.006755  \n",
       "2           0.008910  \n",
       "3           0.000946  \n",
       "4           0.079745  "
      ]
     },
     "execution_count": 3,
     "metadata": {},
     "output_type": "execute_result"
    }
   ],
   "source": [
    "df"
   ]
  },
  {
   "cell_type": "code",
   "execution_count": 4,
   "metadata": {},
   "outputs": [],
   "source": [
    "model_id = \"eos2zmb\""
   ]
  },
  {
   "cell_type": "code",
   "execution_count": 5,
   "metadata": {},
   "outputs": [],
   "source": [
    "columns = df.columns[-2:]\n",
    "\n",
    "output = df[columns].to_dict(\"records\")\n",
    "\n",
    "df_postprocessed = df.copy()\n",
    "df_postprocessed[\"output\"] = output\n",
    "df_postprocessed[\"model_id\"] = model_id\n",
    "df_postprocessed = df_postprocessed[[\"key\", \"input\", \"output\", \"model_id\"]]\n",
    "df_postprocessed.rename(columns={\"key\": \"input_key\", \"input\": \"smiles\"}, inplace=True)"
   ]
  },
  {
   "cell_type": "code",
   "execution_count": 6,
   "metadata": {},
   "outputs": [
    {
     "data": {
      "text/html": [
       "<div>\n",
       "<style scoped>\n",
       "    .dataframe tbody tr th:only-of-type {\n",
       "        vertical-align: middle;\n",
       "    }\n",
       "\n",
       "    .dataframe tbody tr th {\n",
       "        vertical-align: top;\n",
       "    }\n",
       "\n",
       "    .dataframe thead th {\n",
       "        text-align: right;\n",
       "    }\n",
       "</style>\n",
       "<table border=\"1\" class=\"dataframe\">\n",
       "  <thead>\n",
       "    <tr style=\"text-align: right;\">\n",
       "      <th></th>\n",
       "      <th>input_key</th>\n",
       "      <th>smiles</th>\n",
       "      <th>output</th>\n",
       "      <th>model_id</th>\n",
       "    </tr>\n",
       "  </thead>\n",
       "  <tbody>\n",
       "    <tr>\n",
       "      <th>0</th>\n",
       "      <td>PCQFQFRJSWBMEL-UHFFFAOYSA-N</td>\n",
       "      <td>COC(=O)C1=CC=CC2=C1C(=O)C1=CC([N+](=O)[O-])=CC...</td>\n",
       "      <td>{'hdac1_inh_pIC50_7': 0.015329241, 'hdac1_inh_...</td>\n",
       "      <td>eos2zmb</td>\n",
       "    </tr>\n",
       "    <tr>\n",
       "      <th>1</th>\n",
       "      <td>MRSBJIAZTHGJAP-UHFFFAOYSA-N</td>\n",
       "      <td>CN(C)CCC1=CN(C)C2=CC=C(O)C=C12</td>\n",
       "      <td>{'hdac1_inh_pIC50_7': 0.00292032, 'hdac1_inh_p...</td>\n",
       "      <td>eos2zmb</td>\n",
       "    </tr>\n",
       "    <tr>\n",
       "      <th>2</th>\n",
       "      <td>CJUOVTMTGQENNQ-UHFFFAOYSA-N</td>\n",
       "      <td>CC1=C(S(=O)(=O)N2CCCCC2)C2=C(S1)N=CN(CC(=O)N1C...</td>\n",
       "      <td>{'hdac1_inh_pIC50_7': 0.03746149, 'hdac1_inh_p...</td>\n",
       "      <td>eos2zmb</td>\n",
       "    </tr>\n",
       "    <tr>\n",
       "      <th>3</th>\n",
       "      <td>OFCIHDDKDVHWGO-LICLKQGHSA-N</td>\n",
       "      <td>CN(C)CCOC1=CC=C(C(=O)/C=C/C2=CC=C(OC3=CC=CC=C3...</td>\n",
       "      <td>{'hdac1_inh_pIC50_7': 0.0033564952, 'hdac1_inh...</td>\n",
       "      <td>eos2zmb</td>\n",
       "    </tr>\n",
       "    <tr>\n",
       "      <th>4</th>\n",
       "      <td>SZROQWMXFIMBGE-UHFFFAOYSA-N</td>\n",
       "      <td>O=C(CCC1=COC2=CC=CC(OCC3CCCCC3)=C2C1=O)C1=CC=C...</td>\n",
       "      <td>{'hdac1_inh_pIC50_7': 0.08307522, 'hdac1_inh_p...</td>\n",
       "      <td>eos2zmb</td>\n",
       "    </tr>\n",
       "  </tbody>\n",
       "</table>\n",
       "</div>"
      ],
      "text/plain": [
       "                     input_key  \\\n",
       "0  PCQFQFRJSWBMEL-UHFFFAOYSA-N   \n",
       "1  MRSBJIAZTHGJAP-UHFFFAOYSA-N   \n",
       "2  CJUOVTMTGQENNQ-UHFFFAOYSA-N   \n",
       "3  OFCIHDDKDVHWGO-LICLKQGHSA-N   \n",
       "4  SZROQWMXFIMBGE-UHFFFAOYSA-N   \n",
       "\n",
       "                                              smiles  \\\n",
       "0  COC(=O)C1=CC=CC2=C1C(=O)C1=CC([N+](=O)[O-])=CC...   \n",
       "1                     CN(C)CCC1=CN(C)C2=CC=C(O)C=C12   \n",
       "2  CC1=C(S(=O)(=O)N2CCCCC2)C2=C(S1)N=CN(CC(=O)N1C...   \n",
       "3  CN(C)CCOC1=CC=C(C(=O)/C=C/C2=CC=C(OC3=CC=CC=C3...   \n",
       "4  O=C(CCC1=COC2=CC=CC(OCC3CCCCC3)=C2C1=O)C1=CC=C...   \n",
       "\n",
       "                                              output model_id  \n",
       "0  {'hdac1_inh_pIC50_7': 0.015329241, 'hdac1_inh_...  eos2zmb  \n",
       "1  {'hdac1_inh_pIC50_7': 0.00292032, 'hdac1_inh_p...  eos2zmb  \n",
       "2  {'hdac1_inh_pIC50_7': 0.03746149, 'hdac1_inh_p...  eos2zmb  \n",
       "3  {'hdac1_inh_pIC50_7': 0.0033564952, 'hdac1_inh...  eos2zmb  \n",
       "4  {'hdac1_inh_pIC50_7': 0.08307522, 'hdac1_inh_p...  eos2zmb  "
      ]
     },
     "execution_count": 6,
     "metadata": {},
     "output_type": "execute_result"
    }
   ],
   "source": [
    "df_postprocessed"
   ]
  },
  {
   "cell_type": "code",
   "execution_count": 8,
   "metadata": {},
   "outputs": [
    {
     "data": {
      "text/plain": [
       "{'paths': ['s3://precalculations-bucket/predictions/model_id=eos2zmb/9c9cd8f64c934f5cb819463138cfc8e7.snappy.parquet'],\n",
       " 'partitions_values': {'s3://precalculations-bucket/predictions/model_id=eos2zmb/': ['eos2zmb']}}"
      ]
     },
     "execution_count": 8,
     "metadata": {},
     "output_type": "execute_result"
    }
   ],
   "source": [
    "wr.s3.to_parquet(\n",
    "    df=df_postprocessed,\n",
    "    path=os.path.join(\n",
    "        \"s3://\",\n",
    "        \"precalculations-bucket\",\n",
    "        \"predictions\",\n",
    "    ),\n",
    "    dataset=True,\n",
    "    database=\"precalcs_test\",\n",
    "    table=\"predictions\",\n",
    "    partition_cols=[\"model_id\"],\n",
    ")"
   ]
  },
  {
   "cell_type": "code",
   "execution_count": null,
   "metadata": {},
   "outputs": [],
   "source": []
  }
 ],
 "metadata": {
  "kernelspec": {
   "display_name": ".venv",
   "language": "python",
   "name": "python3"
  },
  "language_info": {
   "codemirror_mode": {
    "name": "ipython",
    "version": 3
   },
   "file_extension": ".py",
   "mimetype": "text/x-python",
   "name": "python",
   "nbconvert_exporter": "python",
   "pygments_lexer": "ipython3",
   "version": "3.10.9"
  }
 },
 "nbformat": 4,
 "nbformat_minor": 2
}
