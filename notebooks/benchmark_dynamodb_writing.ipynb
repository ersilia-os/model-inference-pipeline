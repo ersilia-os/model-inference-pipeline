{
 "cells": [
  {
   "cell_type": "markdown",
   "metadata": {},
   "source": [
    "# Benchmarking DynamoDB Write Methods\n",
    "This notebook explores a couple of different ways we can write large sets of predictions to DynamoDB."
   ]
  },
  {
   "cell_type": "markdown",
   "metadata": {},
   "source": [
    "### Reading From Disk\n",
    "These are the precalculations/predictions that I generated earlier using the 2M compound reference library."
   ]
  },
  {
   "cell_type": "code",
   "execution_count": 1,
   "metadata": {},
   "outputs": [],
   "source": [
    "import pandas as pd\n",
    "from ersilia_precalc_poc.read import get_predictions_from_dataframe\n",
    "\n",
    "MODEL_ID = \"eos3b5e\""
   ]
  },
  {
   "cell_type": "code",
   "execution_count": 2,
   "metadata": {},
   "outputs": [
    {
     "data": {
      "text/html": [
       "<div>\n",
       "<style scoped>\n",
       "    .dataframe tbody tr th:only-of-type {\n",
       "        vertical-align: middle;\n",
       "    }\n",
       "\n",
       "    .dataframe tbody tr th {\n",
       "        vertical-align: top;\n",
       "    }\n",
       "\n",
       "    .dataframe thead th {\n",
       "        text-align: right;\n",
       "    }\n",
       "</style>\n",
       "<table border=\"1\" class=\"dataframe\">\n",
       "  <thead>\n",
       "    <tr style=\"text-align: right;\">\n",
       "      <th></th>\n",
       "      <th>key</th>\n",
       "      <th>input</th>\n",
       "      <th>mw</th>\n",
       "    </tr>\n",
       "  </thead>\n",
       "  <tbody>\n",
       "    <tr>\n",
       "      <th>0</th>\n",
       "      <td>PCQFQFRJSWBMEL-UHFFFAOYSA-N</td>\n",
       "      <td>COC(=O)C1=CC=CC2=C1C(=O)C1=CC([N+](=O)[O-])=CC...</td>\n",
       "      <td>283.239</td>\n",
       "    </tr>\n",
       "    <tr>\n",
       "      <th>1</th>\n",
       "      <td>MRSBJIAZTHGJAP-UHFFFAOYSA-N</td>\n",
       "      <td>CN(C)CCC1=CN(C)C2=CC=C(O)C=C12\\n</td>\n",
       "      <td>218.300</td>\n",
       "    </tr>\n",
       "    <tr>\n",
       "      <th>2</th>\n",
       "      <td>CJUOVTMTGQENNQ-UHFFFAOYSA-N</td>\n",
       "      <td>CC1=C(S(=O)(=O)N2CCCCC2)C2=C(S1)N=CN(CC(=O)N1C...</td>\n",
       "      <td>516.649</td>\n",
       "    </tr>\n",
       "    <tr>\n",
       "      <th>3</th>\n",
       "      <td>OFCIHDDKDVHWGO-LICLKQGHSA-N</td>\n",
       "      <td>CN(C)CCOC1=CC=C(C(=O)/C=C/C2=CC=C(OC3=CC=CC=C3...</td>\n",
       "      <td>387.479</td>\n",
       "    </tr>\n",
       "    <tr>\n",
       "      <th>4</th>\n",
       "      <td>SZROQWMXFIMBGE-UHFFFAOYSA-N</td>\n",
       "      <td>O=C(CCC1=COC2=CC=CC(OCC3CCCCC3)=C2C1=O)C1=CC=C...</td>\n",
       "      <td>406.478</td>\n",
       "    </tr>\n",
       "  </tbody>\n",
       "</table>\n",
       "</div>"
      ],
      "text/plain": [
       "                           key  \\\n",
       "0  PCQFQFRJSWBMEL-UHFFFAOYSA-N   \n",
       "1  MRSBJIAZTHGJAP-UHFFFAOYSA-N   \n",
       "2  CJUOVTMTGQENNQ-UHFFFAOYSA-N   \n",
       "3  OFCIHDDKDVHWGO-LICLKQGHSA-N   \n",
       "4  SZROQWMXFIMBGE-UHFFFAOYSA-N   \n",
       "\n",
       "                                               input       mw  \n",
       "0  COC(=O)C1=CC=CC2=C1C(=O)C1=CC([N+](=O)[O-])=CC...  283.239  \n",
       "1                   CN(C)CCC1=CN(C)C2=CC=C(O)C=C12\\n  218.300  \n",
       "2  CC1=C(S(=O)(=O)N2CCCCC2)C2=C(S1)N=CN(CC(=O)N1C...  516.649  \n",
       "3  CN(C)CCOC1=CC=C(C(=O)/C=C/C2=CC=C(OC3=CC=CC=C3...  387.479  \n",
       "4  O=C(CCC1=COC2=CC=CC(OCC3CCCCC3)=C2C1=O)C1=CC=C...  406.478  "
      ]
     },
     "execution_count": 2,
     "metadata": {},
     "output_type": "execute_result"
    }
   ],
   "source": [
    "df_all_predictions = pd.read_csv(\"../data/prediction_output.csv\", usecols=[1,2,3])\n",
    "df_all_predictions.head()"
   ]
  },
  {
   "cell_type": "markdown",
   "metadata": {},
   "source": [
    "I noticed that by default we have an index column in the CSV file, which gets read in as an unnamed column `0`. For now have ignored this by using `usecols=[1,2,3]`, but will need to make sure there's a fool-proof way to sort this out. Perhaps using `pandera` to enforce the same schema on the output as it's generated, as we do when we read the data frame from disk will solve this problem."
   ]
  },
  {
   "cell_type": "code",
   "execution_count": 3,
   "metadata": {},
   "outputs": [
    {
     "name": "stdout",
     "output_type": "stream",
     "text": [
      "CPU times: user 12 s, sys: 305 ms, total: 12.3 s\n",
      "Wall time: 12.4 s\n"
     ]
    }
   ],
   "source": [
    "%%time\n",
    "predictions = get_predictions_from_dataframe(MODEL_ID, df_all_predictions)"
   ]
  },
  {
   "cell_type": "markdown",
   "metadata": {},
   "source": [
    "12s to spin the data from a DataFrame to a python list, ready to write to DynamoDB. Not terrible considering this is only done once per model, and we're testing with the full suite of 2M inputs."
   ]
  },
  {
   "cell_type": "markdown",
   "metadata": {},
   "source": [
    "### Method 1: Using the Built-in Batch Writer"
   ]
  },
  {
   "cell_type": "code",
   "execution_count": 4,
   "metadata": {},
   "outputs": [],
   "source": [
    "from ersilia_precalc_poc.write import write_precalcs_batch_writer"
   ]
  },
  {
   "cell_type": "markdown",
   "metadata": {},
   "source": [
    "Start by writing 1000 records to the table and measure time taken."
   ]
  },
  {
   "cell_type": "code",
   "execution_count": 7,
   "metadata": {},
   "outputs": [
    {
     "name": "stdout",
     "output_type": "stream",
     "text": [
      "CPU times: user 205 ms, sys: 15.1 ms, total: 220 ms\n",
      "Wall time: 16.1 s\n"
     ]
    }
   ],
   "source": [
    "%%time\n",
    "write_precalcs_batch_writer(\"precalculations-poc\", predictions[:1000])"
   ]
  },
  {
   "cell_type": "markdown",
   "metadata": {},
   "source": [
    "Up it to 10,000"
   ]
  },
  {
   "cell_type": "code",
   "execution_count": 8,
   "metadata": {},
   "outputs": [
    {
     "name": "stdout",
     "output_type": "stream",
     "text": [
      "CPU times: user 3.1 s, sys: 196 ms, total: 3.3 s\n",
      "Wall time: 2min 31s\n"
     ]
    }
   ],
   "source": [
    "%%time\n",
    "write_precalcs_batch_writer(\"precalculations-poc\", predictions[1000:11000])"
   ]
  },
  {
   "cell_type": "markdown",
   "metadata": {},
   "source": [
    "100,000"
   ]
  },
  {
   "cell_type": "code",
   "execution_count": 9,
   "metadata": {},
   "outputs": [
    {
     "name": "stdout",
     "output_type": "stream",
     "text": [
      "CPU times: user 30.5 s, sys: 1.85 s, total: 32.3 s\n",
      "Wall time: 25min 47s\n"
     ]
    }
   ],
   "source": [
    "%%time\n",
    "write_precalcs_batch_writer(\"precalculations-poc\", predictions[11000:111000])"
   ]
  },
  {
   "cell_type": "markdown",
   "metadata": {},
   "source": [
    "Seems to scale pretty linearly; 16s -> 151s -> 1547s\n",
    "\n",
    "Expected time per 2M compounds (single worker):\n"
   ]
  },
  {
   "cell_type": "code",
   "execution_count": 10,
   "metadata": {},
   "outputs": [
    {
     "data": {
      "text/plain": [
       "515.6666666666666"
      ]
     },
     "execution_count": 10,
     "metadata": {},
     "output_type": "execute_result"
    }
   ],
   "source": [
    "run_time = ((1547/100_000) * 2_000_000)\n",
    "\n",
    "run_time/60"
   ]
  },
  {
   "cell_type": "markdown",
   "metadata": {},
   "source": [
    "515 minutes ~= 8 to 9 hours"
   ]
  },
  {
   "cell_type": "code",
   "execution_count": null,
   "metadata": {},
   "outputs": [],
   "source": []
  }
 ],
 "metadata": {
  "kernelspec": {
   "display_name": ".venv",
   "language": "python",
   "name": "python3"
  },
  "language_info": {
   "codemirror_mode": {
    "name": "ipython",
    "version": 3
   },
   "file_extension": ".py",
   "mimetype": "text/x-python",
   "name": "python",
   "nbconvert_exporter": "python",
   "pygments_lexer": "ipython3",
   "version": "3.10.9"
  },
  "orig_nbformat": 4
 },
 "nbformat": 4,
 "nbformat_minor": 2
}
